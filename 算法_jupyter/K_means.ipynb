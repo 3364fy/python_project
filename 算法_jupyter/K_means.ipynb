{
 "cells": [
  {
   "cell_type": "code",
   "execution_count": 4,
   "metadata": {
    "collapsed": true
   },
   "outputs": [],
   "source": [
    "from sklearn import datasets\n",
    "import numpy as np\n",
    "import matplotlib.pyplot as plt\n",
    "from sklearn.cluster import KMeans"
   ]
  },
  {
   "cell_type": "code",
   "execution_count": 5,
   "outputs": [],
   "source": [
    "'''画出聚类后的图像\n",
    "    labels:聚类后的label，从0开始的数字\n",
    "    cents：质心坐标\n",
    "    n_cluster:聚类后簇的数量\n",
    "    color：每一簇的颜色\n",
    "'''\n",
    "def draw_result(train_x,labels,cents,title):\n",
    "    n_clusters=np.unique(labels).shape[0]\n",
    "    color=['red','orange','yellow']\n",
    "    plt.figure()\n",
    "    plt.title(title)\n",
    "    for i in range(n_clusters):\n",
    "        current_data=train_x[labels==i]\n",
    "        plt.scatter(current_data[:,0],current_data[:,1],c=color[i])\n",
    "        #使用蓝色的星形表示中心点位置\n",
    "        plt.scatter(cents[i,0],cents[i,1],c='blue',marker='*',s=100)\n",
    "    return plt"
   ],
   "metadata": {
    "collapsed": false,
    "pycharm": {
     "name": "#%%\n"
    }
   }
  },
  {
   "cell_type": "code",
   "execution_count": 7,
   "outputs": [
    {
     "name": "stdout",
     "output_type": "stream",
     "text": [
      "SSE=78.85144142614601\n"
     ]
    },
    {
     "data": {
      "text/plain": "<Figure size 432x288 with 1 Axes>",
      "image/png": "[encoded data removed]"
     },
     "metadata": {
      "needs_background": "light"
     },
     "output_type": "display_data"
    }
   ],
   "source": [
    "if __name__ == '__main__':\n",
    "    iris=datasets.load_iris()\n",
    "    iris_x=iris.data\n",
    "    #设聚类数目为3\n",
    "    clf=KMeans(n_clusters=3,max_iter=10,n_init=10,init='k-means++',\n",
    "               algorithm='full',tol=1e-4,random_state=1)#n_jobs=-1,\n",
    "    clf.fit(iris_x)\n",
    "    print(f'SSE={clf.inertia_}')\n",
    "    draw_result(iris_x,clf.labels_,clf.cluster_centers_,'Kmeans').show()"
   ],
   "metadata": {
    "collapsed": false,
    "pycharm": {
     "name": "#%%\n"
    }
   }
  },
  {
   "cell_type": "code",
   "execution_count": null,
   "outputs": [],
   "source": [],
   "metadata": {
    "collapsed": false,
    "pycharm": {
     "name": "#%%\n"
    }
   }
  }
 ],
 "metadata": {
  "kernelspec": {
   "display_name": "Python 3",
   "language": "python",
   "name": "python3"
  },
  "language_info": {
   "codemirror_mode": {
    "name": "ipython",
    "version": 2
   },
   "file_extension": ".py",
   "mimetype": "text/x-python",
   "name": "python",
   "nbconvert_exporter": "python",
   "pygments_lexer": "ipython2",
   "version": "2.7.6"
  }
 },
 "nbformat": 4,
 "nbformat_minor": 0
}