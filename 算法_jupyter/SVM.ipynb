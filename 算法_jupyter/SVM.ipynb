{
 "cells": [
  {
   "cell_type": "code",
   "execution_count": 6,
   "id": "33efa872",
   "metadata": {},
   "outputs": [],
   "source": [
    "from sklearn import datasets\n",
    "#引入svm包\n",
    "from sklearn import svm\n",
    "import numpy as np\n",
    "#引入画图相关的包\n",
    "from IPython.display import Image\n",
    "\n",
    "#dot是一个程序化生成流程图的简单语言\n",
    "import pydotplus\n"
   ]
  },
  {
   "cell_type": "code",
   "execution_count": 7,
   "id": "e40138c2",
   "metadata": {},
   "outputs": [
    {
     "name": "stdout",
     "output_type": "stream",
     "text": [
      "[1 2 1 0 0 0 2 1 2 0]\n",
      "[1 1 1 0 0 0 2 1 2 0]\n",
      "Accuracy 0.9\n"
     ]
    }
   ],
   "source": [
    "np.random.seed(0)\n",
    "iris=datasets.load_iris()\n",
    "iris_x=iris.data\n",
    "iris_y=iris.target\n",
    "#print(iris_x)\n",
    "indices=np.random.permutation(len(iris_x))\n",
    "iris_x_train=iris_x[indices[:-10]]\n",
    "iris_y_train=iris_y[indices[:-10]]\n",
    "iris_x_test=iris_x[indices[-10:]]\n",
    "iris_y_test=iris_y[indices[-10:]]\n",
    "#使用线性SVC是分类支持向量机的意思，另外还有SVR是回归支持向量机\n",
    "clf=svm.SVC(kernel='linear')\n",
    "clf.fit(iris_x_train,iris_y_train)#拟合\n",
    "\n",
    "#调用该对象的测试方法，主要接收一个参数：测试数据集\n",
    "iris_y_predict=clf.predict(iris_x_test)\n",
    "score=clf.score(iris_x_test,iris_y_test,sample_weight=None)\n",
    "\n",
    "print(iris_y_predict)\n",
    "print(iris_y_test)\n",
    "print('Accuracy',score)"
   ]
  }
 ],
 "metadata": {
  "kernelspec": {
   "display_name": "Python 3 (ipykernel)",
   "language": "python",
   "name": "python3"
  },
  "language_info": {
   "codemirror_mode": {
    "name": "ipython",
    "version": 3
   },
   "file_extension": ".py",
   "mimetype": "text/x-python",
   "name": "python",
   "nbconvert_exporter": "python",
   "pygments_lexer": "ipython3",
   "version": "3.10.0"
  }
 },
 "nbformat": 4,
 "nbformat_minor": 5
}
