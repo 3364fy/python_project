{
 "cells": [
  {
   "cell_type": "code",
   "execution_count": 3,
   "id": "2767167d",
   "metadata": {},
   "outputs": [],
   "source": [
    "from sklearn import datasets\n",
    "#引入决策树算法包\n",
    "from sklearn.neural_network import MLPClassifier\n",
    "import numpy as np\n",
    "#引入画图相关的包\n",
    "from IPython.display import Image\n",
    "from sklearn import tree\n",
    "#dot是一个程序化生成流程图的简单语言\n",
    "import pydotplus\n"
   ]
  },
  {
   "cell_type": "code",
   "execution_count": 4,
   "id": "3fad69cb",
   "metadata": {},
   "outputs": [],
   "source": [
    "np.random.seed(0)\n",
    "iris=datasets.load_iris()\n",
    "iris_x=iris.data\n",
    "iris_y=iris.target\n",
    "#print(iris_x)\n",
    "indices=np.random.permutation(len(iris_x))\n",
    "iris_x_train=iris_x[indices[:-10]]\n",
    "iris_y_train=iris_y[indices[:-10]]\n",
    "iris_x_test=iris_x[indices[-10:]]\n",
    "iris_y_test=iris_y[indices[-10:]]"
   ]
  },
  {
   "cell_type": "code",
   "execution_count": null,
   "id": "5e2e7c8d",
   "metadata": {},
   "outputs": [],
   "source": [
    "# solver是权重优化策略，\n",
    "# avtivation表示选择的激活函数，这里没有设置，默认是relu;\n",
    "# alpha是惩罚参数，hidden_layer_sizes是隐藏层的数量，每一个大小就是设置每层隐藏层的神经元数量，\n",
    "# random_state是初始化所使用的随机项"
   ]
  },
  {
   "cell_type": "code",
   "execution_count": 12,
   "id": "2480abc6",
   "metadata": {},
   "outputs": [],
   "source": [
    "#clf=MLPClassifier(solver='lbfgs',alpha=1e-5,hidden_layer_sizes=(5,2),random_state=1)\n",
    "#clf=MLPClassifier(solver='lbfgs',alpha=1e-5,hidden_layer_sizes=(10,10,10),random_state=1)\n",
    "clf=MLPClassifier(solver='lbfgs',alpha=1e-5,hidden_layer_sizes=(20,20,20,20),random_state=1)\n",
    "clf.fit(iris_x_train,iris_y_train)\n",
    "iris_y_predict=clf.predict(iris_x_test)\n",
    "score=clf.score(iris_x_test,iris_y_test,sample_weight=None)\n"
   ]
  },
  {
   "cell_type": "code",
   "execution_count": 7,
   "id": "b941ffd0",
   "metadata": {},
   "outputs": [
    {
     "name": "stdout",
     "output_type": "stream",
     "text": [
      "[2 2 2 2 2 2 2 2 2 2]\n",
      "[1 1 1 0 0 0 2 1 2 0]\n",
      "Accuracy 0.2\n",
      "layer nums： 4\n"
     ]
    }
   ],
   "source": [
    "print(iris_y_predict)\n",
    "print(iris_y_test)\n",
    "print('Accuracy',score)\n",
    "print('layer nums：',clf.n_layers_)"
   ]
  },
  {
   "cell_type": "code",
   "execution_count": 9,
   "id": "2c30bc0c",
   "metadata": {},
   "outputs": [
    {
     "name": "stdout",
     "output_type": "stream",
     "text": [
      "[1 2 1 0 0 0 2 1 2 0]\n",
      "[1 1 1 0 0 0 2 1 2 0]\n",
      "Accuracy 0.9\n",
      "layer nums： 5\n"
     ]
    }
   ],
   "source": [
    "print(iris_y_predict)\n",
    "print(iris_y_test)\n",
    "print('Accuracy',score)\n",
    "print('layer nums：',clf.n_layers_)"
   ]
  },
  {
   "cell_type": "code",
   "execution_count": 13,
   "id": "f3eae8ad",
   "metadata": {},
   "outputs": [
    {
     "name": "stdout",
     "output_type": "stream",
     "text": [
      "[1 2 1 0 0 0 2 1 2 0]\n",
      "[1 1 1 0 0 0 2 1 2 0]\n",
      "Accuracy 0.9\n",
      "layer nums： 6\n"
     ]
    }
   ],
   "source": [
    "print(iris_y_predict)\n",
    "print(iris_y_test)\n",
    "print('Accuracy',score)\n",
    "print('layer nums：',clf.n_layers_)"
   ]
  },
  {
   "cell_type": "code",
   "execution_count": null,
   "id": "7eb8011c",
   "metadata": {},
   "outputs": [],
   "source": []
  }
 ],
 "metadata": {
  "kernelspec": {
   "display_name": "Python 3 (ipykernel)",
   "language": "python",
   "name": "python3"
  },
  "language_info": {
   "codemirror_mode": {
    "name": "ipython",
    "version": 3
   },
   "file_extension": ".py",
   "mimetype": "text/x-python",
   "name": "python",
   "nbconvert_exporter": "python",
   "pygments_lexer": "ipython3",
   "version": "3.10.0"
  }
 },
 "nbformat": 4,
 "nbformat_minor": 5
}
